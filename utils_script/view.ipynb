{
 "cells": [
  {
   "cell_type": "code",
   "execution_count": null,
   "metadata": {},
   "outputs": [],
   "source": [
    "from nilearn import plotting\n",
    "import nibabel as nib\n",
    "neuro_img = nib.load(\"norm-average_mni305.mgz\")\n",
    "# plotting.view_img(neuro_img, bg_img=False, black_bg=True)\n",
    "plotting.plot_anat(neuro_img, (-4,-33,5), black_bg=False)"
   ]
  },
  {
   "cell_type": "code",
   "execution_count": null,
   "metadata": {},
   "outputs": [],
   "source": [
    "from nilearn import plotting\n",
    "import nibabel as nib\n",
    "neuro_img = nib.load(\"norm-sub-0003002.mgz\")\n",
    "# plotting.view_img(neuro_img, bg_img=False, black_bg=True)\n",
    "plotting.plot_anat(neuro_img, (-4,-33,5), black_bg=False)"
   ]
  },
  {
   "cell_type": "code",
   "execution_count": 13,
   "metadata": {},
   "outputs": [
    {
     "name": "stdout",
     "output_type": "stream",
     "text": [
      "Minimum value: 0.0\n",
      "Maximum value: 0.9289442896842957\n",
      "Mean value: 0.07040171028756026\n",
      "Standard deviation: 0.13900858241926456\n"
     ]
    }
   ],
   "source": [
    "# Load the mgz file\n",
    "mgz_file = \"moved.nii.gz\"\n",
    "img = nib.load(mgz_file)\n",
    "\n",
    "# Get the image data\n",
    "img_data = img.get_fdata()\n",
    "import numpy as np\n",
    "# Calculate statistics\n",
    "min_value = np.min(img_data)\n",
    "max_value = np.max(img_data)\n",
    "mean_value = np.mean(img_data)\n",
    "std_value = np.std(img_data)\n",
    "\n",
    "# Print the statistics\n",
    "print(f\"Minimum value: {min_value}\")\n",
    "print(f\"Maximum value: {max_value}\")\n",
    "print(f\"Mean value: {mean_value}\")\n",
    "print(f\"Standard deviation: {std_value}\")"
   ]
  }
 ],
 "metadata": {
  "kernelspec": {
   "display_name": "Python 3",
   "language": "python",
   "name": "python3"
  },
  "language_info": {
   "codemirror_mode": {
    "name": "ipython",
    "version": 3
   },
   "file_extension": ".py",
   "mimetype": "text/x-python",
   "name": "python",
   "nbconvert_exporter": "python",
   "pygments_lexer": "ipython3",
   "version": "3.8.16"
  },
  "orig_nbformat": 4
 },
 "nbformat": 4,
 "nbformat_minor": 2
}
